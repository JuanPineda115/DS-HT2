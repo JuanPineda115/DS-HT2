{
 "cells": [
  {
   "cell_type": "markdown",
   "metadata": {},
   "source": [
    "Martín Amado - 19020\n",
    "Juan Pablo Pineda - 19087\n",
    "### Hoja de trabajo 2"
   ]
  },
  {
   "cell_type": "code",
   "execution_count": null,
   "metadata": {},
   "outputs": [],
   "source": [
    "import pandas as pd\n",
    "import matplotlib.pyplot as plt\n",
    "import seaborn as sns\n",
    "import numpy as np\n",
    "import matplotlib.cm as cm\n",
    "from sklearn.preprocessing import StandardScaler\n",
    "from scipy import stats\n",
    "from factor_analyzer import calculate_bartlett_sphericity, calculate_kmo\n",
    "from sklearn.decomposition import PCA\n",
    "from sklearn.pipeline import make_pipeline\n",
    "from apyori import apriori\n",
    "from statsmodels.tsa.stattools import adfuller\n",
    "from statsmodels.tsa.seasonal import seasonal_decompose\n",
    "from statsmodels.tsa.stattools import acf, pacf\n",
    "from statsmodels.tsa.arima_model import ARIMA\n",
    "from statsmodels.tsa.statespace.sarimax import SARIMAX\n",
    "np.warnings.filterwarnings('ignore', category=np.VisibleDeprecationWarning)\n",
    "pd.set_option('display.max_rows', None)"
   ]
  },
  {
   "cell_type": "markdown",
   "metadata": {},
   "source": [
    "## Analisis exploratorio"
   ]
  },
  {
   "cell_type": "code",
   "execution_count": null,
   "metadata": {},
   "outputs": [],
   "source": [
    "consumption = pd.read_excel('./CONSUMO-2022-05.xlsx', skiprows=6)\n",
    "imports = pd.read_excel('./IMPORTACION-VOLUMEN-2022-05.xlsx', skiprows=6)"
   ]
  },
  {
   "cell_type": "markdown",
   "metadata": {},
   "source": [
    "# Descripcion de los datos de interes"
   ]
  },
  {
   "cell_type": "code",
   "execution_count": null,
   "metadata": {},
   "outputs": [],
   "source": [
    "interes=['Gasolina superior', 'Gasolina regular', 'Diesel']\n",
    "interesF=['Fecha', 'Gasolina superior', 'Gasolina regular', 'Diesel']\n",
    "consumos = consumption[interesF]\n",
    "#omitimos los datos despues del 269 ya que no aportan relevancia\n",
    "consumos = consumos[:269]\n",
    "importes = imports[interesF]\n",
    "importes = importes[:257]"
   ]
  },
  {
   "cell_type": "code",
   "execution_count": null,
   "metadata": {},
   "outputs": [],
   "source": [
    "consumos.head(10)"
   ]
  },
  {
   "cell_type": "code",
   "execution_count": null,
   "metadata": {},
   "outputs": [],
   "source": [
    "importes.head(10)"
   ]
  },
  {
   "cell_type": "code",
   "execution_count": null,
   "metadata": {},
   "outputs": [],
   "source": [
    "for var in interes:\n",
    "    sns.displot(consumos[var], kde=True)"
   ]
  },
  {
   "cell_type": "code",
   "execution_count": null,
   "metadata": {},
   "outputs": [],
   "source": [
    "for var in interes:\n",
    "    sns.displot(importes[var], kde=True)"
   ]
  },
  {
   "cell_type": "code",
   "execution_count": null,
   "metadata": {},
   "outputs": [],
   "source": [
    "fechaConsumo = [pd.to_datetime(d) for d in consumos['Fecha']]\n",
    "consumos['Fecha'] = fechaConsumo\n",
    "fechaImportes = [pd.to_datetime(d) for d in importes['Fecha']]\n",
    "importes['Fecha'] = fechaImportes"
   ]
  },
  {
   "cell_type": "markdown",
   "metadata": {},
   "source": [
    "Separamos los datos en fechas "
   ]
  },
  {
   "cell_type": "code",
   "execution_count": null,
   "metadata": {},
   "outputs": [],
   "source": [
    "fechasC = pd.DataFrame()\n",
    "fechasC['consumptionDate'] = fechaConsumo\n",
    "fechasC['year'] = fechasC['consumptionDate'].dt.year\n",
    "fechasC['month'] = fechasC['consumptionDate'].dt.month\n",
    "\n",
    "\n",
    "fechasI = pd.DataFrame()\n",
    "fechasI['consumptionDate'] = fechaImportes\n",
    "fechasI['year'] = fechasI['consumptionDate'].dt.year\n",
    "fechasI['month'] = fechasI['consumptionDate'].dt.month\n"
   ]
  },
  {
   "cell_type": "markdown",
   "metadata": {},
   "source": [
    "# Pico de consumo por mes"
   ]
  },
  {
   "cell_type": "code",
   "execution_count": null,
   "metadata": {},
   "outputs": [],
   "source": [
    "monthlyData = consumos.groupby(consumos['Fecha'].dt.month)\n",
    "months = []\n",
    "for name, group in monthlyData:\n",
    "    months.append(name)\n",
    "\n",
    "for x in interes:\n",
    "    figure = plt.figure()\n",
    "    figure.set_figwidth(15)\n",
    "    figure.set_figheight(15)\n",
    "    plt.title(x)\n",
    "    plt.plot(months, monthlyData.mean()[x])\n",
    "    plt.show()\n",
    "    \n"
   ]
  },
  {
   "cell_type": "markdown",
   "metadata": {},
   "source": [
    "# Pico de importaciones por mes"
   ]
  },
  {
   "cell_type": "code",
   "execution_count": null,
   "metadata": {},
   "outputs": [],
   "source": [
    "monthlyData = importes.groupby(importes['Fecha'].dt.month)\n",
    "months = []\n",
    "for name, group in monthlyData:\n",
    "    months.append(name)\n",
    "\n",
    "for x in interes:\n",
    "    figure = plt.figure()\n",
    "    figure.set_figwidth(15)\n",
    "    figure.set_figheight(15)\n",
    "    plt.title(x)\n",
    "    plt.plot(months, monthlyData.mean()[x])\n",
    "    plt.show()\n",
    "    \n"
   ]
  },
  {
   "cell_type": "code",
   "execution_count": null,
   "metadata": {},
   "outputs": [],
   "source": [
    "yearData = consumos.groupby(consumos['Fecha'].dt.year)\n",
    "years = []\n",
    "for name, group in yearData:\n",
    "    years.append(name)\n",
    "\n",
    "figure = plt.figure()\n",
    "figure.set_figwidth(15)\n",
    "figure.set_figheight(15)\n",
    "for x in interes:\n",
    "    plt.plot(years, yearData.mean()[x], label=x)\n",
    "\n",
    "plt.title('Consumos por año por tipo de gasolina')\n",
    "plt.legend()\n",
    "plt.show()\n"
   ]
  },
  {
   "cell_type": "code",
   "execution_count": null,
   "metadata": {},
   "outputs": [],
   "source": [
    "yearData = importes.groupby(importes['Fecha'].dt.year)\n",
    "years = []\n",
    "for name, group in yearData:\n",
    "    years.append(name)\n",
    "\n",
    "figure = plt.figure()\n",
    "figure.set_figwidth(15)\n",
    "figure.set_figheight(15)\n",
    "for x in interes:\n",
    "    plt.plot(years, yearData.mean()[x], label=x)\n",
    "\n",
    "plt.title('Importaciones por año por tipo de gasolina')\n",
    "plt.legend()\n",
    "plt.show()\n"
   ]
  },
  {
   "cell_type": "markdown",
   "metadata": {},
   "source": [
    "# Comportamiento de importaciones en 2020"
   ]
  },
  {
   "cell_type": "code",
   "execution_count": null,
   "metadata": {},
   "outputs": [],
   "source": [
    "monthlyData = importes.where(importes['Fecha'].dt.year == 2020).groupby(importes['Fecha'].dt.month)\n",
    "months = []\n",
    "for name, group in monthlyData:\n",
    "    months.append(name)\n",
    "\n",
    "figure = plt.figure()\n",
    "figure.set_figwidth(15)\n",
    "figure.set_figheight(15)\n",
    "for x in interes:\n",
    "    plt.plot(months, monthlyData.mean()[x], label=x)\n",
    "\n",
    "plt.title('Comportamiento de importaciones en 2020')\n",
    "plt.legend()    \n",
    "plt.show()"
   ]
  },
  {
   "cell_type": "markdown",
   "metadata": {},
   "source": [
    "# Comportamiento de consumos en 2020"
   ]
  },
  {
   "cell_type": "code",
   "execution_count": null,
   "metadata": {},
   "outputs": [],
   "source": [
    "monthlyData = consumos.where(consumos['Fecha'].dt.year == 2020).groupby(consumos['Fecha'].dt.month)\n",
    "months = []\n",
    "for name, group in monthlyData:\n",
    "    months.append(name)\n",
    "\n",
    "figure = plt.figure()\n",
    "figure.set_figwidth(15)\n",
    "figure.set_figheight(15)\n",
    "for x in interes:\n",
    "    plt.plot(months, monthlyData.mean()[x], label=x)\n",
    "\n",
    "plt.title('Comportamiento de consumos en 2020')\n",
    "plt.legend()    \n",
    "plt.show()"
   ]
  },
  {
   "cell_type": "markdown",
   "metadata": {},
   "source": [
    "### Serie de tiempo"
   ]
  },
  {
   "cell_type": "code",
   "execution_count": null,
   "metadata": {},
   "outputs": [],
   "source": [
    "for x in interes:\n",
    "    figure = plt.figure()\n",
    "    figure.set_figwidth(15)\n",
    "    figure.set_figheight(15)\n",
    "    plt.plot(consumos['Fecha'], consumos[x], label=\"consumos\")\n",
    "    plt.title(f'Consumos {x}')\n",
    "    plt.show()\n",
    "\n",
    "for x in interes:\n",
    "    figure = plt.figure()\n",
    "    figure.set_figwidth(15)\n",
    "    figure.set_figheight(15)\n",
    "    plt.plot(importes['Fecha'], importes[x], label=\"Importaciones\")\n",
    "    plt.title(f'Importaciones {x}')\n",
    "    plt.show()"
   ]
  },
  {
   "cell_type": "markdown",
   "metadata": {},
   "source": [
    "# Separacion para entrenamiento (Consumo Diesel)"
   ]
  },
  {
   "cell_type": "code",
   "execution_count": null,
   "metadata": {},
   "outputs": [],
   "source": [
    "trainSize = int(len(consumos) * 0.7)\n",
    "trainConsumos = consumos[0:trainSize]\n",
    "testConsumos = consumos[trainSize:len(consumos)]\n",
    "trainConsumos = trainConsumos.set_index(['Fecha'])\n",
    "testConsumos = testConsumos.set_index(['Fecha'])"
   ]
  },
  {
   "cell_type": "code",
   "execution_count": null,
   "metadata": {},
   "outputs": [],
   "source": [
    "tsDiesel = trainConsumos['Diesel']\n",
    "mediaMovil = tsDiesel.rolling(window=12).mean()\n",
    "deMovil = tsDiesel.rolling(window=12).std()"
   ]
  },
  {
   "cell_type": "code",
   "execution_count": null,
   "metadata": {},
   "outputs": [],
   "source": [
    "original = plt.plot(tsDiesel, color=\"blue\", label=\"Original\")\n",
    "media = plt.plot(mediaMovil, color='red', label = 'Media Movil')\n",
    "ds = plt.plot(deMovil,color='black', label = 'Desviación Estándar Móvil')\n",
    "plt.legend(loc = 'best')\n",
    "plt.title('Media y desviación estándar móvil')\n",
    "plt.show(block=False)"
   ]
  },
  {
   "cell_type": "code",
   "execution_count": null,
   "metadata": {},
   "outputs": [],
   "source": [
    "descomposicion = seasonal_decompose(tsDiesel)\n",
    "descomposicion.plot()"
   ]
  },
  {
   "cell_type": "markdown",
   "metadata": {},
   "source": [
    "La serie parece no ser estacionaria en media ni varianza debido a la tendencia observada"
   ]
  },
  {
   "cell_type": "markdown",
   "metadata": {},
   "source": [
    "## Estimacion"
   ]
  },
  {
   "cell_type": "code",
   "execution_count": null,
   "metadata": {},
   "outputs": [],
   "source": [
    "tsDiesel = tsDiesel.astype({'Diesel':'float'})\n",
    "tsDieselLog = np.log(tsDiesel)\n",
    "plt.plot(tsDieselLog)"
   ]
  },
  {
   "cell_type": "markdown",
   "metadata": {},
   "source": [
    "Se realiza una transformacion logaritmica"
   ]
  },
  {
   "cell_type": "markdown",
   "metadata": {},
   "source": [
    "## Dickey Fuller"
   ]
  },
  {
   "cell_type": "code",
   "execution_count": null,
   "metadata": {},
   "outputs": [],
   "source": [
    "dfTest = adfuller(tsDiesel, autolag='AIC')\n",
    "salidaDf = pd.Series(dfTest[0:4], index=['Estadístico de prueba','p-value','# de retardos usados','# de observaciones usadas'])\n",
    "for key,value in dfTest[4].items():\n",
    "        salidaDf['Valor Crítico (%s)'%key] = value\n",
    "print(salidaDf)"
   ]
  },
  {
   "cell_type": "markdown",
   "metadata": {},
   "source": [
    "El p-value es mayor a 0.05 por lo que se realizara una diferenciacion"
   ]
  },
  {
   "cell_type": "markdown",
   "metadata": {},
   "source": [
    "## Resultados del Test de Dickey Fuller para una diferenciación de serie"
   ]
  },
  {
   "cell_type": "code",
   "execution_count": null,
   "metadata": {},
   "outputs": [],
   "source": [
    "tsDieselDiff = tsDiesel.diff()\n",
    "tsDieselDiff.dropna(inplace=True)\n",
    "dfTest = adfuller(tsDieselDiff)\n",
    "salidaDf = pd.Series(dfTest[0:4], index=['Estadístico de prueba','p-value','# de retardos usados','# de observaciones usadas'])\n",
    "for key,value in dfTest[4].items():\n",
    "        salidaDf['Critical Value (%s)'%key] = value\n",
    "salidaDf"
   ]
  },
  {
   "cell_type": "markdown",
   "metadata": {},
   "source": [
    "El p-value es menor a 0.05, por lo que solo una diferenciacion es necesaria"
   ]
  },
  {
   "cell_type": "code",
   "execution_count": null,
   "metadata": {},
   "outputs": [],
   "source": [
    "plt.plot(tsDieselDiff)\n",
    "plt.title('Diferenciacion de la serie')"
   ]
  },
  {
   "cell_type": "code",
   "execution_count": null,
   "metadata": {},
   "outputs": [],
   "source": [
    "plt.plot(tsDieselLog.diff())"
   ]
  },
  {
   "cell_type": "markdown",
   "metadata": {},
   "source": [
    "### Estimacion de parametros del modelo"
   ]
  },
  {
   "cell_type": "code",
   "execution_count": null,
   "metadata": {},
   "outputs": [],
   "source": [
    "tsDieselLogDiff = tsDieselLog.diff()\n",
    "tsDieselLogDiff.dropna(inplace = True)\n",
    "tsd_acf = acf(tsDieselLogDiff,nlags=5,fft=False)\n",
    "tsd_pacf = pacf(tsDieselLogDiff, nlags=36)\n",
    "tsd_acf"
   ]
  },
  {
   "cell_type": "code",
   "execution_count": null,
   "metadata": {},
   "outputs": [],
   "source": [
    "plt.rcParams['figure.figsize'] = [15, 5]\n",
    "plt.rcParams['figure.dpi'] = 100 # 200 e.g. is really fine, but slower\n",
    "\n",
    "#Plot ACF: \n",
    "plt.subplot(121) \n",
    "plt.plot(acf(tsDieselLogDiff,nlags=12,fft=False))\n",
    "plt.axhline(y=0,linestyle='--',color='gray')\n",
    "plt.axhline(y=-1.96/np.sqrt(len(tsDieselLogDiff)),linestyle='--',color='gray')\n",
    "plt.axhline(y=1.96/np.sqrt(len(tsDieselLogDiff)),linestyle='--',color='gray')\n",
    "plt.title('Función de Autocorrelación con 12 retardos')\n",
    "\n",
    "plt.subplot(122) \n",
    "plt.plot(acf(tsDieselLogDiff,nlags=5,fft=False))\n",
    "plt.axhline(y=0,linestyle='--',color='gray')\n",
    "plt.axhline(y=-1.96/np.sqrt(len(tsDieselLogDiff)),linestyle='--',color='gray')\n",
    "plt.axhline(y=1.96/np.sqrt(len(tsDieselLogDiff)),linestyle='--',color='gray')\n",
    "plt.title('Función de Autocorrelación con 5 retardos')\n",
    "\n",
    "plt.tight_layout()"
   ]
  },
  {
   "cell_type": "markdown",
   "metadata": {},
   "source": [
    "### PACF"
   ]
  },
  {
   "cell_type": "code",
   "execution_count": null,
   "metadata": {},
   "outputs": [],
   "source": [
    "plt.subplot(121)\n",
    "plt.plot(pacf(tsDieselLogDiff, nlags=36))\n",
    "plt.axhline(y=0,linestyle='--',color='gray')\n",
    "plt.axhline(y=-1.96/np.sqrt(len(tsDieselLogDiff)),linestyle='--',color='gray')\n",
    "plt.axhline(y=1.96/np.sqrt(len(tsDieselLogDiff)),linestyle='--',color='gray')\n",
    "plt.title('Función de Autocorrelación Parcial 36 retardos')\n",
    "\n",
    "plt.subplot(122)\n",
    "plt.plot(pacf(tsDieselLogDiff, nlags=5))\n",
    "plt.axhline(y=0,linestyle='--',color='gray')\n",
    "plt.axhline(y=-1.96/np.sqrt(len(tsDieselLogDiff)),linestyle='--',color='gray')\n",
    "plt.axhline(y=1.96/np.sqrt(len(tsDieselLogDiff)),linestyle='--',color='gray')\n",
    "plt.title('Función de Autocorrelación Parcial 5 retardos')\n",
    "\n",
    "plt.rcParams['figure.figsize'] = [15, 5]\n",
    "plt.rcParams['figure.dpi'] = 100 "
   ]
  },
  {
   "cell_type": "markdown",
   "metadata": {},
   "source": [
    "En los graficos anteriores, se obtienen los siguientes valores\r\n",
    "\r\n",
    "    p = 1, q = 1\r\n",
    "    p = 1, q = 1\r\n",
    "\r\n",
    "Y se tiene que d = 1"
   ]
  },
  {
   "cell_type": "markdown",
   "metadata": {},
   "source": [
    "## ARIMA"
   ]
  },
  {
   "cell_type": "markdown",
   "metadata": {},
   "source": [
    "### Prueba de estacionalidad"
   ]
  },
  {
   "cell_type": "code",
   "execution_count": null,
   "metadata": {},
   "outputs": [],
   "source": [
    "plt.plot(acf(tsDieselLogDiff,nlags=36,fft=False))\n",
    "plt.axhline(y=0,linestyle='--',color='gray')\n",
    "plt.axhline(y=-1.96/np.sqrt(len(tsDieselLogDiff)),linestyle='--',color='gray')\n",
    "plt.axhline(y=1.96/np.sqrt(len(tsDieselLogDiff)),linestyle='--',color='gray')\n",
    "plt.title('Función de Autocorrelación con 36 retardos')\n",
    "plt.rcParams['figure.figsize'] = [15, 5]\n",
    "plt.rcParams['figure.dpi'] = 100 # 200 e.g. is really fine, but slower"
   ]
  },
  {
   "cell_type": "markdown",
   "metadata": {},
   "source": [
    "Se observa estacionalidad aproximadamente cada doce meses (6, 18, 30)"
   ]
  },
  {
   "cell_type": "code",
   "execution_count": null,
   "metadata": {},
   "outputs": [],
   "source": [
    "tsDieselD = tsDieselLog.diff(12)\n",
    "tsDieselD.dropna(inplace=True)"
   ]
  },
  {
   "cell_type": "code",
   "execution_count": null,
   "metadata": {},
   "outputs": [],
   "source": [
    "plt.plot(pacf(tsDieselD, nlags=5))\n",
    "plt.axhline(y=0,linestyle='--',color='gray')\n",
    "plt.axhline(y=-1.96/np.sqrt(len(tsDieselLogDiff)),linestyle='--',color='gray')\n",
    "plt.axhline(y=1.96/np.sqrt(len(tsDieselLogDiff)),linestyle='--',color='gray')\n",
    "plt.title('Función de Autocorrelación Parcial 5 retardos')"
   ]
  },
  {
   "cell_type": "markdown",
   "metadata": {},
   "source": [
    "Se anula despues de 3\r\n",
    "P = 3\r\n",
    "D = 1\r\n",
    "Q = 0"
   ]
  },
  {
   "cell_type": "markdown",
   "metadata": {},
   "source": [
    "### Analisis de residuos"
   ]
  },
  {
   "cell_type": "code",
   "execution_count": null,
   "metadata": {},
   "outputs": [],
   "source": [
    "modelo111 = SARIMAX(tsDieselLog, order=(1,1,1), seasonal_order=(3,1,0,12), enforce_stationarity=False, enforce_invertibility=False)\n",
    "resultado_m111 = modelo111.fit()\n",
    "resultado_m111.summary().tables[1]"
   ]
  },
  {
   "cell_type": "code",
   "execution_count": null,
   "metadata": {},
   "outputs": [],
   "source": [
    "resultado_m111.plot_diagnostics(figsize=(18, 8))\n",
    "plt.show()"
   ]
  },
  {
   "cell_type": "code",
   "execution_count": null,
   "metadata": {},
   "outputs": [],
   "source": [
    "modelo211 = SARIMAX(tsDieselLog, order=(2,1,1), seasonal_order=(3,1,0,12), enforce_stationarity=False, enforce_invertibility=False)\n",
    "resultado_m211 = modelo211.fit()\n",
    "resultado_m211.summary().tables[1]"
   ]
  },
  {
   "cell_type": "code",
   "execution_count": null,
   "metadata": {},
   "outputs": [],
   "source": [
    "resultado_m211.plot_diagnostics(figsize=(18, 8))\n",
    "plt.show()"
   ]
  },
  {
   "cell_type": "code",
   "execution_count": null,
   "metadata": {},
   "outputs": [],
   "source": [
    "plt.show()\n",
    "print(\"Resultados de AIC (Akaike information criterion)\")\n",
    "print(\"Modelo 111=\",resultado_m111.aic)\n",
    "print(\"Modelo 211=\",resultado_m211.aic)\n",
    "print(\"Resultados de BIC (Bayesian information criterion)\")\n",
    "print(\"Modelo 111=\",resultado_m111.bic)\n",
    "print(\"Modelo 211=\",resultado_m211.bic)"
   ]
  },
  {
   "cell_type": "markdown",
   "metadata": {},
   "source": [
    "El modelo 111 es mejor porque en ambos el valor es menor"
   ]
  },
  {
   "cell_type": "code",
   "execution_count": null,
   "metadata": {},
   "outputs": [],
   "source": [
    "testConsumos.index[0]\r\n",
    "pred = resultado_m111.get_prediction(start=testConsumos.index[0], dynamic=False)\r\n",
    "pred_ci = pred.conf_int()\r\n",
    "consumoIndexed = consumos.set_index('Fecha')\r\n",
    "consumoIndexed = consumoIndexed['Diesel']\r\n",
    "ax = consumoIndexed['2000':].plot(label='observed')\r\n",
    "pred.predicted_mean.plot(ax=ax, label='One-step ahead Forecast', alpha=.7, figsize=(14, 4))\r\n",
    "ax.fill_between( pred_ci.iloc[:,0],\r\n",
    "                pred_ci.iloc[:,1], color='k', alpha=.2)\r\n",
    "#ax.set_xlabel('Date')\r\n",
    "#ax.set_ylabel('Retail_sold')\r\n",
    "plt.legend()\r\n",
    "plt.show()\r\n",
    "\r\n",
    "pred"
   ]
  },
  {
   "cell_type": "markdown",
   "metadata": {},
   "source": [
    "# Separacion para entrenamiento (Consumo Regular)"
   ]
  },
  {
   "cell_type": "code",
   "execution_count": null,
   "metadata": {},
   "outputs": [],
   "source": [
    "tsRegular = trainConsumos['Gasolina regular']\r\n",
    "mediaMovil = tsRegular.rolling(window=12).mean()\r\n",
    "deMovil = tsRegular.rolling(window=12).std()"
   ]
  },
  {
   "cell_type": "code",
   "execution_count": null,
   "metadata": {},
   "outputs": [],
   "source": [
    "original = plt.plot(tsRegular, color=\"blue\", label=\"Original\")\r\n",
    "media = plt.plot(mediaMovil, color='red', label = 'Media Movil')\r\n",
    "ds = plt.plot(deMovil,color='black', label = 'Desviación Estándar Móvil')\r\n",
    "plt.legend(loc = 'best')\r\n",
    "plt.title('Media y desviación estándar móvil')\r\n",
    "plt.show(block=False)"
   ]
  },
  {
   "cell_type": "code",
   "execution_count": null,
   "metadata": {},
   "outputs": [],
   "source": [
    "descomposicion = seasonal_decompose(tsRegular)\r\n",
    "descomposicion.plot()"
   ]
  },
  {
   "cell_type": "markdown",
   "metadata": {},
   "source": [
    "La serie parece no ser estacionaria en media ni varianza debido a la tendencia observada"
   ]
  },
  {
   "cell_type": "markdown",
   "metadata": {},
   "source": [
    "## Estimacion"
   ]
  },
  {
   "cell_type": "code",
   "execution_count": null,
   "metadata": {},
   "outputs": [],
   "source": [
    "tsRegular = tsRegular.astype({'Gasolina regular':'float'})\r\n",
    "tsRegularLog = np.log(tsRegular)\r\n",
    "plt.plot(tsRegularLog)"
   ]
  },
  {
   "cell_type": "markdown",
   "metadata": {},
   "source": [
    "Se realiza una transformacion logaritmica"
   ]
  },
  {
   "cell_type": "markdown",
   "metadata": {},
   "source": [
    "## Dickey Fuller"
   ]
  },
  {
   "cell_type": "code",
   "execution_count": null,
   "metadata": {},
   "outputs": [],
   "source": [
    "dfTest = adfuller(tsRegular, autolag='AIC')\r\n",
    "salidaDf = pd.Series(dfTest[0:4], index=['Estadístico de prueba','p-value','# de retardos usados','# de observaciones usadas'])\r\n",
    "for key,value in dfTest[4].items():\r\n",
    "        salidaDf['Valor Crítico (%s)'%key] = value\r\n",
    "print(salidaDf)"
   ]
  },
  {
   "cell_type": "markdown",
   "metadata": {},
   "source": [
    "El p-value es mayor a 0.05 por lo que se realizara una diferenciacion"
   ]
  },
  {
   "cell_type": "markdown",
   "metadata": {},
   "source": [
    "## Resultados del Test de Dickey Fuller para una diferenciación de serie"
   ]
  },
  {
   "cell_type": "code",
   "execution_count": null,
   "metadata": {},
   "outputs": [],
   "source": [
    "tsRegularDiff = tsRegular.diff()\r\n",
    "tsRegularDiff.dropna(inplace=True)\r\n",
    "dfTest = adfuller(tsRegularDiff)\r\n",
    "salidaDf = pd.Series(dfTest[0:4], index=['Estadístico de prueba','p-value','# de retardos usados','# de observaciones usadas'])\r\n",
    "for key,value in dfTest[4].items():\r\n",
    "        salidaDf['Critical Value (%s)'%key] = value\r\n",
    "salidaDf"
   ]
  },
  {
   "cell_type": "markdown",
   "metadata": {},
   "source": [
    "El p-value es menor a 0.05, por lo que solo una diferenciacion es necesaria"
   ]
  },
  {
   "cell_type": "code",
   "execution_count": null,
   "metadata": {},
   "outputs": [],
   "source": [
    "plt.plot(tsRegularDiff)\r\n",
    "plt.title('Diferenciacion de la serie')"
   ]
  },
  {
   "cell_type": "code",
   "execution_count": null,
   "metadata": {},
   "outputs": [],
   "source": [
    "plt.plot(tsRegularLog.diff())"
   ]
  },
  {
   "cell_type": "markdown",
   "metadata": {},
   "source": [
    "### Estimacion de parametros del modelo"
   ]
  },
  {
   "cell_type": "code",
   "execution_count": null,
   "metadata": {},
   "outputs": [],
   "source": [
    "tsRegularLogDiff = tsRegularLog.diff()\r\n",
    "tsRegularLogDiff.dropna(inplace = True)\r\n",
    "tsd_acf = acf(tsRegularLogDiff,nlags=5,fft=False)\r\n",
    "tsd_pacf = pacf(tsRegularLogDiff, nlags=36)\r\n",
    "tsd_acf"
   ]
  },
  {
   "cell_type": "code",
   "execution_count": null,
   "metadata": {},
   "outputs": [],
   "source": [
    "plt.rcParams['figure.figsize'] = [15, 5]\r\n",
    "plt.rcParams['figure.dpi'] = 100 # 200 e.g. is really fine, but slower\r\n",
    "\r\n",
    "#Plot ACF: \r\n",
    "plt.subplot(121) \r\n",
    "plt.plot(acf(tsRegularLogDiff,nlags=12,fft=False))\r\n",
    "plt.axhline(y=0,linestyle='--',color='gray')\r\n",
    "plt.axhline(y=-1.96/np.sqrt(len(tsRegularLogDiff)),linestyle='--',color='gray')\r\n",
    "plt.axhline(y=1.96/np.sqrt(len(tsRegularLogDiff)),linestyle='--',color='gray')\r\n",
    "plt.title('Función de Autocorrelación con 12 retardos')\r\n",
    "\r\n",
    "plt.subplot(122) \r\n",
    "plt.plot(acf(tsRegularLogDiff,nlags=5,fft=False))\r\n",
    "plt.axhline(y=0,linestyle='--',color='gray')\r\n",
    "plt.axhline(y=-1.96/np.sqrt(len(tsRegularLogDiff)),linestyle='--',color='gray')\r\n",
    "plt.axhline(y=1.96/np.sqrt(len(tsRegularLogDiff)),linestyle='--',color='gray')\r\n",
    "plt.title('Función de Autocorrelación con 5 retardos')\r\n",
    "\r\n",
    "plt.tight_layout()"
   ]
  },
  {
   "cell_type": "markdown",
   "metadata": {},
   "source": [
    "### PACF"
   ]
  },
  {
   "cell_type": "code",
   "execution_count": null,
   "metadata": {},
   "outputs": [],
   "source": [
    "plt.subplot(121)\r\n",
    "plt.plot(pacf(tsRegularLogDiff, nlags=36))\r\n",
    "plt.axhline(y=0,linestyle='--',color='gray')\r\n",
    "plt.axhline(y=-1.96/np.sqrt(len(tsRegularLogDiff)),linestyle='--',color='gray')\r\n",
    "plt.axhline(y=1.96/np.sqrt(len(tsRegularLogDiff)),linestyle='--',color='gray')\r\n",
    "plt.title('Función de Autocorrelación Parcial 36 retardos')\r\n",
    "\r\n",
    "plt.subplot(122)\r\n",
    "plt.plot(pacf(tsRegularLogDiff, nlags=5))\r\n",
    "plt.axhline(y=0,linestyle='--',color='gray')\r\n",
    "plt.axhline(y=-1.96/np.sqrt(len(tsRegularLogDiff)),linestyle='--',color='gray')\r\n",
    "plt.axhline(y=1.96/np.sqrt(len(tsRegularLogDiff)),linestyle='--',color='gray')\r\n",
    "plt.title('Función de Autocorrelación Parcial 5 retardos')\r\n",
    "\r\n",
    "plt.rcParams['figure.figsize'] = [15, 5]\r\n",
    "plt.rcParams['figure.dpi'] = 100 "
   ]
  },
  {
   "cell_type": "markdown",
   "metadata": {},
   "source": [
    "En los graficos anteriores, se obtienen los siguientes valores\r\n",
    "\r\n",
    "    p = 1, q = 1\r\n",
    "    p = 1, q = 1\r\n",
    "\r\n",
    "Y se tiene que d = 1"
   ]
  },
  {
   "cell_type": "markdown",
   "metadata": {},
   "source": [
    "## ARIMA"
   ]
  },
  {
   "cell_type": "markdown",
   "metadata": {},
   "source": [
    "### Prueba de estacionalidad"
   ]
  },
  {
   "cell_type": "code",
   "execution_count": null,
   "metadata": {},
   "outputs": [],
   "source": [
    "plt.plot(acf(tsRegularLogDiff,nlags=36,fft=False))\r\n",
    "plt.axhline(y=0,linestyle='--',color='gray')\r\n",
    "plt.axhline(y=-1.96/np.sqrt(len(tsRegularLogDiff)),linestyle='--',color='gray')\r\n",
    "plt.axhline(y=1.96/np.sqrt(len(tsRegularLogDiff)),linestyle='--',color='gray')\r\n",
    "plt.title('Función de Autocorrelación con 36 retardos')\r\n",
    "plt.rcParams['figure.figsize'] = [15, 5]\r\n",
    "plt.rcParams['figure.dpi'] = 100 # 200 e.g. is really fine, but slower"
   ]
  },
  {
   "cell_type": "markdown",
   "metadata": {},
   "source": [
    "Se observa estacionalidad aproximadamente cada doce meses (12, 24, 36)"
   ]
  },
  {
   "cell_type": "code",
   "execution_count": null,
   "metadata": {},
   "outputs": [],
   "source": [
    "tsRegularD = tsRegularLog.diff(12)\r\n",
    "tsRegularD.dropna(inplace=True)"
   ]
  },
  {
   "cell_type": "code",
   "execution_count": null,
   "metadata": {},
   "outputs": [],
   "source": [
    "plt.plot(pacf(tsRegularD, nlags=5))\r\n",
    "plt.axhline(y=0,linestyle='--',color='gray')\r\n",
    "plt.axhline(y=-1.96/np.sqrt(len(tsRegularLogDiff)),linestyle='--',color='gray')\r\n",
    "plt.axhline(y=1.96/np.sqrt(len(tsRegularLogDiff)),linestyle='--',color='gray')\r\n",
    "plt.title('Función de Autocorrelación Parcial 5 retardos')"
   ]
  },
  {
   "cell_type": "markdown",
   "metadata": {},
   "source": [
    "Se anula despues de 3\r\n",
    "P = 3\r\n",
    "D = 1\r\n",
    "Q = 0"
   ]
  },
  {
   "cell_type": "markdown",
   "metadata": {},
   "source": [
    "### Analisis de residuos"
   ]
  },
  {
   "cell_type": "code",
   "execution_count": null,
   "metadata": {},
   "outputs": [],
   "source": [
    "modelo111 = SARIMAX(tsRegularLog, order=(1,1,1), seasonal_order=(3,1,0,12), enforce_stationarity=False, enforce_invertibility=False)\r\n",
    "resultado_m111 = modelo111.fit()\r\n",
    "resultado_m111.summary().tables[1]"
   ]
  },
  {
   "cell_type": "code",
   "execution_count": null,
   "metadata": {},
   "outputs": [],
   "source": [
    "resultado_m111.plot_diagnostics(figsize=(18, 8))\r\n",
    "plt.show()"
   ]
  },
  {
   "cell_type": "code",
   "execution_count": null,
   "metadata": {},
   "outputs": [],
   "source": [
    "modelo211 = SARIMAX(tsRegularLog, order=(2,1,1), seasonal_order=(3,1,0,12), enforce_stationarity=False, enforce_invertibility=False)\r\n",
    "resultado_m211 = modelo211.fit()\r\n",
    "resultado_m211.summary().tables[1]"
   ]
  },
  {
   "cell_type": "code",
   "execution_count": null,
   "metadata": {},
   "outputs": [],
   "source": [
    "resultado_m211.plot_diagnostics(figsize=(18, 8))\r\n",
    "plt.show()"
   ]
  },
  {
   "cell_type": "code",
   "execution_count": null,
   "metadata": {},
   "outputs": [],
   "source": [
    "plt.show()\r\n",
    "print(\"Resultados de AIC (Akaike information criterion)\")\r\n",
    "print(\"Modelo 111=\",resultado_m111.aic)\r\n",
    "print(\"Modelo 211=\",resultado_m211.aic)\r\n",
    "print(\"Resultados de BIC (Bayesian information criterion)\")\r\n",
    "print(\"Modelo 111=\",resultado_m111.bic)\r\n",
    "print(\"Modelo 211=\",resultado_m211.bic)"
   ]
  },
  {
   "cell_type": "markdown",
   "metadata": {},
   "source": [
    "El modelo 111 es mejor porque en ambos el valor es menor"
   ]
  },
  {
   "cell_type": "code",
   "execution_count": null,
   "metadata": {},
   "outputs": [],
   "source": [
    "testConsumos.index[0]\r\n",
    "pred = resultado_m111.get_prediction(start=testConsumos.index[0], dynamic=False)\r\n",
    "pred_ci = pred.conf_int()\r\n",
    "consumoIndexed = consumos.set_index('Fecha')\r\n",
    "consumoIndexed = consumoIndexed['Gasolina regular']\r\n",
    "ax = consumoIndexed['2000':].plot(label='observed')\r\n",
    "pred.predicted_mean.plot(ax=ax, label='One-step ahead Forecast', alpha=.7, figsize=(14, 4))\r\n",
    "ax.fill_between( pred_ci.iloc[:,0],\r\n",
    "                pred_ci.iloc[:,1], color='k', alpha=.2)\r\n",
    "#ax.set_xlabel('Date')\r\n",
    "#ax.set_ylabel('Retail_sold')\r\n",
    "plt.legend()\r\n",
    "plt.show()\r\n",
    "\r\n",
    "pred"
   ]
  },
  {
   "cell_type": "markdown",
   "metadata": {},
   "source": [
    "# Separacion para entrenamiento (Consumo Super)"
   ]
  },
  {
   "cell_type": "code",
   "execution_count": null,
   "metadata": {},
   "outputs": [],
   "source": [
    "tsSuper = trainConsumos['Gasolina superior']\r\n",
    "mediaMovil = tsSuper.rolling(window=12).mean()\r\n",
    "deMovil = tsSuper.rolling(window=12).std()"
   ]
  },
  {
   "cell_type": "code",
   "execution_count": null,
   "metadata": {},
   "outputs": [],
   "source": [
    "original = plt.plot(tsSuper, color=\"blue\", label=\"Original\")\r\n",
    "media = plt.plot(mediaMovil, color='red', label = 'Media Movil')\r\n",
    "ds = plt.plot(deMovil,color='black', label = 'Desviación Estándar Móvil')\r\n",
    "plt.legend(loc = 'best')\r\n",
    "plt.title('Media y desviación estándar móvil')\r\n",
    "plt.show(block=False)"
   ]
  },
  {
   "cell_type": "code",
   "execution_count": null,
   "metadata": {},
   "outputs": [],
   "source": [
    "descomposicion = seasonal_decompose(tsSuper)\r\n",
    "descomposicion.plot()"
   ]
  },
  {
   "cell_type": "markdown",
   "metadata": {},
   "source": [
    "La serie parece no ser estacionaria en media ni varianza debido a la tendencia observada"
   ]
  },
  {
   "cell_type": "markdown",
   "metadata": {},
   "source": [
    "## Estimacion"
   ]
  },
  {
   "cell_type": "code",
   "execution_count": null,
   "metadata": {},
   "outputs": [],
   "source": [
    "tsSuper = tsSuper.astype({'Gasolina superior':'float'})\r\n",
    "tsSuperLog = np.log(tsSuper)\r\n",
    "plt.plot(tsSuperLog)"
   ]
  },
  {
   "cell_type": "markdown",
   "metadata": {},
   "source": [
    "Se realiza una transformacion logaritmica"
   ]
  },
  {
   "cell_type": "markdown",
   "metadata": {},
   "source": [
    "## Dickey Fuller"
   ]
  },
  {
   "cell_type": "code",
   "execution_count": null,
   "metadata": {},
   "outputs": [],
   "source": [
    "dfTest = adfuller(tsSuper, autolag='AIC')\r\n",
    "salidaDf = pd.Series(dfTest[0:4], index=['Estadístico de prueba','p-value','# de retardos usados','# de observaciones usadas'])\r\n",
    "for key,value in dfTest[4].items():\r\n",
    "        salidaDf['Valor Crítico (%s)'%key] = value\r\n",
    "print(salidaDf)"
   ]
  },
  {
   "cell_type": "markdown",
   "metadata": {},
   "source": [
    "El p-value es mayor a 0.05 por lo que se realizara una diferenciacion"
   ]
  },
  {
   "cell_type": "markdown",
   "metadata": {},
   "source": [
    "## Resultados del Test de Dickey Fuller para una diferenciación de serie"
   ]
  },
  {
   "cell_type": "code",
   "execution_count": null,
   "metadata": {},
   "outputs": [],
   "source": [
    "tsSuperDiff = tsSuper.diff()\r\n",
    "tsSuperDiff.dropna(inplace=True)\r\n",
    "dfTest = adfuller(tsSuperDiff)\r\n",
    "salidaDf = pd.Series(dfTest[0:4], index=['Estadístico de prueba','p-value','# de retardos usados','# de observaciones usadas'])\r\n",
    "for key,value in dfTest[4].items():\r\n",
    "        salidaDf['Critical Value (%s)'%key] = value\r\n",
    "salidaDf"
   ]
  },
  {
   "cell_type": "markdown",
   "metadata": {},
   "source": [
    "El p-value es menor a 0.05, por lo que solo una diferenciacion es necesaria"
   ]
  },
  {
   "cell_type": "code",
   "execution_count": null,
   "metadata": {},
   "outputs": [],
   "source": [
    "plt.plot(tsSuperDiff)\r\n",
    "plt.title('Diferenciacion de la serie')"
   ]
  },
  {
   "cell_type": "code",
   "execution_count": null,
   "metadata": {},
   "outputs": [],
   "source": [
    "plt.plot(tsSuperLog.diff())"
   ]
  },
  {
   "cell_type": "markdown",
   "metadata": {},
   "source": [
    "### Estimacion de parametros del modelo"
   ]
  },
  {
   "cell_type": "code",
   "execution_count": null,
   "metadata": {},
   "outputs": [],
   "source": [
    "tsSuperLogDiff = tsSuperLog.diff()\r\n",
    "tsSuperLogDiff.dropna(inplace = True)\r\n",
    "tsd_acf = acf(tsSuperLogDiff,nlags=5,fft=False)\r\n",
    "tsd_pacf = pacf(tsSuperLogDiff, nlags=36)\r\n",
    "tsd_acf"
   ]
  },
  {
   "cell_type": "code",
   "execution_count": null,
   "metadata": {},
   "outputs": [],
   "source": [
    "plt.rcParams['figure.figsize'] = [15, 5]\r\n",
    "plt.rcParams['figure.dpi'] = 100 # 200 e.g. is really fine, but slower\r\n",
    "\r\n",
    "#Plot ACF: \r\n",
    "plt.subplot(121) \r\n",
    "plt.plot(acf(tsSuperLogDiff,nlags=12,fft=False))\r\n",
    "plt.axhline(y=0,linestyle='--',color='gray')\r\n",
    "plt.axhline(y=-1.96/np.sqrt(len(tsSuperLogDiff)),linestyle='--',color='gray')\r\n",
    "plt.axhline(y=1.96/np.sqrt(len(tsSuperLogDiff)),linestyle='--',color='gray')\r\n",
    "plt.title('Función de Autocorrelación con 12 retardos')\r\n",
    "\r\n",
    "plt.subplot(122) \r\n",
    "plt.plot(acf(tsSuperLogDiff,nlags=5,fft=False))\r\n",
    "plt.axhline(y=0,linestyle='--',color='gray')\r\n",
    "plt.axhline(y=-1.96/np.sqrt(len(tsSuperLogDiff)),linestyle='--',color='gray')\r\n",
    "plt.axhline(y=1.96/np.sqrt(len(tsSuperLogDiff)),linestyle='--',color='gray')\r\n",
    "plt.title('Función de Autocorrelación con 5 retardos')\r\n",
    "\r\n",
    "plt.tight_layout()"
   ]
  },
  {
   "cell_type": "markdown",
   "metadata": {},
   "source": [
    "### PACF"
   ]
  },
  {
   "cell_type": "code",
   "execution_count": null,
   "metadata": {},
   "outputs": [],
   "source": [
    "plt.subplot(121)\r\n",
    "plt.plot(pacf(tsSuperLogDiff, nlags=36))\r\n",
    "plt.axhline(y=0,linestyle='--',color='gray')\r\n",
    "plt.axhline(y=-1.96/np.sqrt(len(tsSuperLogDiff)),linestyle='--',color='gray')\r\n",
    "plt.axhline(y=1.96/np.sqrt(len(tsSuperLogDiff)),linestyle='--',color='gray')\r\n",
    "plt.title('Función de Autocorrelación Parcial 36 retardos')\r\n",
    "\r\n",
    "plt.subplot(122)\r\n",
    "plt.plot(pacf(tsSuperLogDiff, nlags=5))\r\n",
    "plt.axhline(y=0,linestyle='--',color='gray')\r\n",
    "plt.axhline(y=-1.96/np.sqrt(len(tsSuperLogDiff)),linestyle='--',color='gray')\r\n",
    "plt.axhline(y=1.96/np.sqrt(len(tsSuperLogDiff)),linestyle='--',color='gray')\r\n",
    "plt.title('Función de Autocorrelación Parcial 5 retardos')\r\n",
    "\r\n",
    "plt.rcParams['figure.figsize'] = [15, 5]\r\n",
    "plt.rcParams['figure.dpi'] = 100 "
   ]
  },
  {
   "cell_type": "markdown",
   "metadata": {},
   "source": [
    "En los graficos anteriores, se obtienen los siguientes valores\r\n",
    "\r\n",
    "    p = 1, q = 1\r\n",
    "    p = 1, q = 1\r\n",
    "\r\n",
    "Y se tiene que d = 1"
   ]
  },
  {
   "cell_type": "markdown",
   "metadata": {},
   "source": [
    "## ARIMA"
   ]
  },
  {
   "cell_type": "markdown",
   "metadata": {},
   "source": [
    "### Prueba de estacionalidad"
   ]
  },
  {
   "cell_type": "code",
   "execution_count": null,
   "metadata": {},
   "outputs": [],
   "source": [
    "plt.plot(acf(tsSuperLogDiff,nlags=36,fft=False))\r\n",
    "plt.axhline(y=0,linestyle='--',color='gray')\r\n",
    "plt.axhline(y=-1.96/np.sqrt(len(tsSuperLogDiff)),linestyle='--',color='gray')\r\n",
    "plt.axhline(y=1.96/np.sqrt(len(tsSuperLogDiff)),linestyle='--',color='gray')\r\n",
    "plt.title('Función de Autocorrelación con 36 retardos')\r\n",
    "plt.rcParams['figure.figsize'] = [15, 5]\r\n",
    "plt.rcParams['figure.dpi'] = 100 # 200 e.g. is really fine, but slower"
   ]
  },
  {
   "cell_type": "markdown",
   "metadata": {},
   "source": [
    "Se observa estacionalidad aproximadamente cada doce meses (12, 24, 36)"
   ]
  },
  {
   "cell_type": "code",
   "execution_count": null,
   "metadata": {},
   "outputs": [],
   "source": [
    "tsSuperD = tsSuperLog.diff(12)\r\n",
    "tsSuperD.dropna(inplace=True)"
   ]
  },
  {
   "cell_type": "code",
   "execution_count": null,
   "metadata": {},
   "outputs": [],
   "source": [
    "plt.plot(pacf(tsSuperD, nlags=5))\r\n",
    "plt.axhline(y=0,linestyle='--',color='gray')\r\n",
    "plt.axhline(y=-1.96/np.sqrt(len(tsSuperLogDiff)),linestyle='--',color='gray')\r\n",
    "plt.axhline(y=1.96/np.sqrt(len(tsSuperLogDiff)),linestyle='--',color='gray')\r\n",
    "plt.title('Función de Autocorrelación Parcial 5 retardos')"
   ]
  },
  {
   "cell_type": "markdown",
   "metadata": {},
   "source": [
    "Se anula despues de 3\r\n",
    "P = 3\r\n",
    "D = 1\r\n",
    "Q = 0"
   ]
  },
  {
   "cell_type": "markdown",
   "metadata": {},
   "source": [
    "### Analisis de residuos"
   ]
  },
  {
   "cell_type": "code",
   "execution_count": null,
   "metadata": {},
   "outputs": [],
   "source": [
    "modelo111 = SARIMAX(tsSuperLog, order=(1,1,1), seasonal_order=(3,1,0,12), enforce_stationarity=False, enforce_invertibility=False)\r\n",
    "resultado_m111 = modelo111.fit()\r\n",
    "resultado_m111.summary().tables[1]"
   ]
  },
  {
   "cell_type": "code",
   "execution_count": null,
   "metadata": {},
   "outputs": [],
   "source": [
    "resultado_m111.plot_diagnostics(figsize=(18, 8))\r\n",
    "plt.show()"
   ]
  },
  {
   "cell_type": "code",
   "execution_count": null,
   "metadata": {},
   "outputs": [],
   "source": [
    "modelo211 = SARIMAX(tsSuperLog, order=(2,1,1), seasonal_order=(3,1,0,12), enforce_stationarity=False, enforce_invertibility=False)\r\n",
    "resultado_m211 = modelo211.fit()\r\n",
    "resultado_m211.summary().tables[1]"
   ]
  },
  {
   "cell_type": "code",
   "execution_count": null,
   "metadata": {},
   "outputs": [],
   "source": [
    "resultado_m211.plot_diagnostics(figsize=(18, 8))\r\n",
    "plt.show()"
   ]
  },
  {
   "cell_type": "code",
   "execution_count": null,
   "metadata": {},
   "outputs": [],
   "source": [
    "plt.show()\r\n",
    "print(\"Resultados de AIC (Akaike information criterion)\")\r\n",
    "print(\"Modelo 111=\",resultado_m111.aic)\r\n",
    "print(\"Modelo 211=\",resultado_m211.aic)\r\n",
    "print(\"Resultados de BIC (Bayesian information criterion)\")\r\n",
    "print(\"Modelo 111=\",resultado_m111.bic)\r\n",
    "print(\"Modelo 211=\",resultado_m211.bic)"
   ]
  },
  {
   "cell_type": "markdown",
   "metadata": {},
   "source": [
    "El modelo 111 es mejor porque en ambos el valor es menor"
   ]
  },
  {
   "cell_type": "code",
   "execution_count": null,
   "metadata": {},
   "outputs": [],
   "source": [
    "testConsumos.index[0]\r\n",
    "pred = resultado_m111.get_prediction(start=testConsumos.index[0], dynamic=False)\r\n",
    "pred_ci = pred.conf_int()\r\n",
    "consumoIndexed = consumos.set_index('Fecha')\r\n",
    "consumoIndexed = consumoIndexed['Gasolina superior']\r\n",
    "ax = consumoIndexed['2000':].plot(label='observed')\r\n",
    "pred.predicted_mean.plot(ax=ax, label='One-step ahead Forecast', alpha=.7, figsize=(14, 4))\r\n",
    "ax.fill_between( pred_ci.iloc[:,0],\r\n",
    "                pred_ci.iloc[:,1], color='k', alpha=.2)\r\n",
    "#ax.set_xlabel('Date')\r\n",
    "#ax.set_ylabel('Retail_sold')\r\n",
    "plt.legend()\r\n",
    "plt.show()\r\n",
    "\r\n",
    "pred"
   ]
  },
  {
   "cell_type": "markdown",
   "metadata": {},
   "source": [
    "# Separacion para entrenamiento (Importaciones Diesel)"
   ]
  },
  {
   "cell_type": "code",
   "execution_count": null,
   "metadata": {},
   "outputs": [],
   "source": [
    "trainSize = int(len(importes) * 0.7)\r\n",
    "trainImportes = importes[0:trainSize]\r\n",
    "testImportes = importes[trainSize:len(importes)]\r\n",
    "trainImportes = trainImportes.set_index(['Fecha'])\r\n",
    "testImportes = testImportes.set_index(['Fecha'])"
   ]
  },
  {
   "cell_type": "code",
   "execution_count": null,
   "metadata": {},
   "outputs": [],
   "source": [
    "tsDiesel = trainImportes['Diesel']\r\n",
    "mediaMovil = tsDiesel.rolling(window=12).mean()\r\n",
    "deMovil = tsDiesel.rolling(window=12).std()"
   ]
  },
  {
   "cell_type": "code",
   "execution_count": null,
   "metadata": {},
   "outputs": [],
   "source": [
    "original = plt.plot(tsDiesel, color=\"blue\", label=\"Original\")\r\n",
    "media = plt.plot(mediaMovil, color='red', label = 'Media Movil')\r\n",
    "ds = plt.plot(deMovil,color='black', label = 'Desviación Estándar Móvil')\r\n",
    "plt.legend(loc = 'best')\r\n",
    "plt.title('Media y desviación estándar móvil')\r\n",
    "plt.show(block=False)"
   ]
  },
  {
   "cell_type": "code",
   "execution_count": null,
   "metadata": {},
   "outputs": [],
   "source": [
    "descomposicion = seasonal_decompose(tsDiesel)\r\n",
    "descomposicion.plot()"
   ]
  },
  {
   "cell_type": "markdown",
   "metadata": {},
   "source": [
    "La serie parece no ser estacionaria en media ni varianza debido a la tendencia observada"
   ]
  },
  {
   "cell_type": "markdown",
   "metadata": {},
   "source": [
    "## Estimacion"
   ]
  },
  {
   "cell_type": "code",
   "execution_count": null,
   "metadata": {},
   "outputs": [],
   "source": [
    "tsDiesel = tsDiesel.astype({'Diesel':'float'})\r\n",
    "tsDieselLog = np.log(tsDiesel)\r\n",
    "plt.plot(tsDieselLog)"
   ]
  },
  {
   "cell_type": "markdown",
   "metadata": {},
   "source": [
    "Se realiza una transformacion logaritmica"
   ]
  },
  {
   "cell_type": "markdown",
   "metadata": {},
   "source": [
    "## Dickey Fuller"
   ]
  },
  {
   "cell_type": "code",
   "execution_count": null,
   "metadata": {},
   "outputs": [],
   "source": [
    "dfTest = adfuller(tsDiesel, autolag='AIC')\r\n",
    "salidaDf = pd.Series(dfTest[0:4], index=['Estadístico de prueba','p-value','# de retardos usados','# de observaciones usadas'])\r\n",
    "for key,value in dfTest[4].items():\r\n",
    "        salidaDf['Valor Crítico (%s)'%key] = value\r\n",
    "print(salidaDf)"
   ]
  },
  {
   "cell_type": "markdown",
   "metadata": {},
   "source": [
    "El p-value es mayor a 0.05 por lo que se realizara una diferenciacion"
   ]
  },
  {
   "cell_type": "markdown",
   "metadata": {},
   "source": [
    "## Resultados del Test de Dickey Fuller para una diferenciación de serie"
   ]
  },
  {
   "cell_type": "code",
   "execution_count": null,
   "metadata": {},
   "outputs": [],
   "source": [
    "tsDieselDiff = tsDiesel.diff()\r\n",
    "tsDieselDiff.dropna(inplace=True)\r\n",
    "dfTest = adfuller(tsDieselDiff)\r\n",
    "salidaDf = pd.Series(dfTest[0:4], index=['Estadístico de prueba','p-value','# de retardos usados','# de observaciones usadas'])\r\n",
    "for key,value in dfTest[4].items():\r\n",
    "        salidaDf['Critical Value (%s)'%key] = value\r\n",
    "salidaDf"
   ]
  },
  {
   "cell_type": "markdown",
   "metadata": {},
   "source": [
    "El p-value es menor a 0.05, por lo que solo una diferenciacion es necesaria"
   ]
  },
  {
   "cell_type": "code",
   "execution_count": null,
   "metadata": {},
   "outputs": [],
   "source": [
    "plt.plot(tsDieselDiff)\r\n",
    "plt.title('Diferenciacion de la serie')"
   ]
  },
  {
   "cell_type": "code",
   "execution_count": null,
   "metadata": {},
   "outputs": [],
   "source": [
    "plt.plot(tsDieselLog.diff())"
   ]
  },
  {
   "cell_type": "markdown",
   "metadata": {},
   "source": [
    "### Estimacion de parametros del modelo"
   ]
  },
  {
   "cell_type": "code",
   "execution_count": null,
   "metadata": {},
   "outputs": [],
   "source": [
    "tsDieselLogDiff = tsDieselLog.diff()\r\n",
    "tsDieselLogDiff.dropna(inplace = True)\r\n",
    "tsd_acf = acf(tsDieselLogDiff,nlags=5,fft=False)\r\n",
    "tsd_pacf = pacf(tsDieselLogDiff, nlags=36)\r\n",
    "tsd_acf"
   ]
  },
  {
   "cell_type": "code",
   "execution_count": null,
   "metadata": {},
   "outputs": [],
   "source": [
    "plt.rcParams['figure.figsize'] = [15, 5]\r\n",
    "plt.rcParams['figure.dpi'] = 100 # 200 e.g. is really fine, but slower\r\n",
    "\r\n",
    "#Plot ACF: \r\n",
    "plt.subplot(121) \r\n",
    "plt.plot(acf(tsDieselLogDiff,nlags=12,fft=False))\r\n",
    "plt.axhline(y=0,linestyle='--',color='gray')\r\n",
    "plt.axhline(y=-1.96/np.sqrt(len(tsDieselLogDiff)),linestyle='--',color='gray')\r\n",
    "plt.axhline(y=1.96/np.sqrt(len(tsDieselLogDiff)),linestyle='--',color='gray')\r\n",
    "plt.title('Función de Autocorrelación con 12 retardos')\r\n",
    "\r\n",
    "plt.subplot(122) \r\n",
    "plt.plot(acf(tsDieselLogDiff,nlags=5,fft=False))\r\n",
    "plt.axhline(y=0,linestyle='--',color='gray')\r\n",
    "plt.axhline(y=-1.96/np.sqrt(len(tsDieselLogDiff)),linestyle='--',color='gray')\r\n",
    "plt.axhline(y=1.96/np.sqrt(len(tsDieselLogDiff)),linestyle='--',color='gray')\r\n",
    "plt.title('Función de Autocorrelación con 5 retardos')\r\n",
    "\r\n",
    "plt.tight_layout()"
   ]
  },
  {
   "cell_type": "markdown",
   "metadata": {},
   "source": [
    "### PACF"
   ]
  },
  {
   "cell_type": "code",
   "execution_count": null,
   "metadata": {},
   "outputs": [],
   "source": [
    "plt.subplot(121)\r\n",
    "plt.plot(pacf(tsDieselLogDiff, nlags=36))\r\n",
    "plt.axhline(y=0,linestyle='--',color='gray')\r\n",
    "plt.axhline(y=-1.96/np.sqrt(len(tsDieselLogDiff)),linestyle='--',color='gray')\r\n",
    "plt.axhline(y=1.96/np.sqrt(len(tsDieselLogDiff)),linestyle='--',color='gray')\r\n",
    "plt.title('Función de Autocorrelación Parcial 36 retardos')\r\n",
    "\r\n",
    "plt.subplot(122)\r\n",
    "plt.plot(pacf(tsDieselLogDiff, nlags=5))\r\n",
    "plt.axhline(y=0,linestyle='--',color='gray')\r\n",
    "plt.axhline(y=-1.96/np.sqrt(len(tsDieselLogDiff)),linestyle='--',color='gray')\r\n",
    "plt.axhline(y=1.96/np.sqrt(len(tsDieselLogDiff)),linestyle='--',color='gray')\r\n",
    "plt.title('Función de Autocorrelación Parcial 5 retardos')\r\n",
    "\r\n",
    "plt.rcParams['figure.figsize'] = [15, 5]\r\n",
    "plt.rcParams['figure.dpi'] = 100 "
   ]
  },
  {
   "cell_type": "markdown",
   "metadata": {},
   "source": [
    "En los graficos anteriores, se obtienen los siguientes valores\r\n",
    "\r\n",
    "    p = 1, q = 1\r\n",
    "    p = 1, q = 1\r\n",
    "\r\n",
    "Y se tiene que d = 1"
   ]
  },
  {
   "cell_type": "markdown",
   "metadata": {},
   "source": [
    "## ARIMA"
   ]
  },
  {
   "cell_type": "markdown",
   "metadata": {},
   "source": [
    "### Prueba de estacionalidad"
   ]
  },
  {
   "cell_type": "code",
   "execution_count": null,
   "metadata": {},
   "outputs": [],
   "source": [
    "plt.plot(acf(tsDieselLogDiff,nlags=36,fft=False))\r\n",
    "plt.axhline(y=0,linestyle='--',color='gray')\r\n",
    "plt.axhline(y=-1.96/np.sqrt(len(tsDieselLogDiff)),linestyle='--',color='gray')\r\n",
    "plt.axhline(y=1.96/np.sqrt(len(tsDieselLogDiff)),linestyle='--',color='gray')\r\n",
    "plt.title('Función de Autocorrelación con 36 retardos')\r\n",
    "plt.rcParams['figure.figsize'] = [15, 5]\r\n",
    "plt.rcParams['figure.dpi'] = 100 # 200 e.g. is really fine, but slower"
   ]
  },
  {
   "cell_type": "code",
   "execution_count": null,
   "metadata": {},
   "outputs": [],
   "source": [
    "tsDieselD = tsDieselLog.diff(12)\r\n",
    "tsDieselD.dropna(inplace=True)"
   ]
  },
  {
   "cell_type": "code",
   "execution_count": null,
   "metadata": {},
   "outputs": [],
   "source": [
    "plt.plot(pacf(tsDieselD, nlags=5))\r\n",
    "plt.axhline(y=0,linestyle='--',color='gray')\r\n",
    "plt.axhline(y=-1.96/np.sqrt(len(tsDieselLogDiff)),linestyle='--',color='gray')\r\n",
    "plt.axhline(y=1.96/np.sqrt(len(tsDieselLogDiff)),linestyle='--',color='gray')\r\n",
    "plt.title('Función de Autocorrelación Parcial 5 retardos')"
   ]
  },
  {
   "cell_type": "markdown",
   "metadata": {},
   "source": [
    "Se anula despues de 2\r\n",
    "P = 2\r\n",
    "D = 1\r\n",
    "Q = 0"
   ]
  },
  {
   "cell_type": "markdown",
   "metadata": {},
   "source": [
    "### Analisis de residuos"
   ]
  },
  {
   "cell_type": "code",
   "execution_count": null,
   "metadata": {},
   "outputs": [],
   "source": [
    "modelo111 = SARIMAX(tsDieselLog, order=(1,1,1), seasonal_order=(2,1,0,12), enforce_stationarity=False, enforce_invertibility=False)\r\n",
    "resultado_m111 = modelo111.fit()\r\n",
    "resultado_m111.summary().tables[1]"
   ]
  },
  {
   "cell_type": "code",
   "execution_count": null,
   "metadata": {},
   "outputs": [],
   "source": [
    "resultado_m111.plot_diagnostics(figsize=(18, 8))\r\n",
    "plt.show()"
   ]
  },
  {
   "cell_type": "code",
   "execution_count": null,
   "metadata": {},
   "outputs": [],
   "source": [
    "modelo211 = SARIMAX(tsDieselLog, order=(2,1,1), seasonal_order=(2,1,0,12), enforce_stationarity=False, enforce_invertibility=False)\r\n",
    "resultado_m211 = modelo211.fit()\r\n",
    "resultado_m211.summary().tables[1]"
   ]
  },
  {
   "cell_type": "code",
   "execution_count": null,
   "metadata": {},
   "outputs": [],
   "source": [
    "resultado_m211.plot_diagnostics(figsize=(18, 8))\r\n",
    "plt.show()"
   ]
  },
  {
   "cell_type": "code",
   "execution_count": null,
   "metadata": {},
   "outputs": [],
   "source": [
    "plt.show()\r\n",
    "print(\"Resultados de AIC (Akaike information criterion)\")\r\n",
    "print(\"Modelo 111=\",resultado_m111.aic)\r\n",
    "print(\"Modelo 211=\",resultado_m211.aic)\r\n",
    "print(\"Resultados de BIC (Bayesian information criterion)\")\r\n",
    "print(\"Modelo 111=\",resultado_m111.bic)\r\n",
    "print(\"Modelo 211=\",resultado_m211.bic)"
   ]
  },
  {
   "cell_type": "markdown",
   "metadata": {},
   "source": [
    "El modelo 111 es mejor porque en ambos el valor es menor"
   ]
  },
  {
   "cell_type": "code",
   "execution_count": null,
   "metadata": {},
   "outputs": [],
   "source": [
    "testImportes.index[0]\r\n",
    "pred = resultado_m111.get_prediction(start=testImportes.index[0], dynamic=False)\r\n",
    "pred_ci = pred.conf_int()\r\n",
    "importesIndexed = importes.set_index('Fecha')\r\n",
    "importesIndexed = importesIndexed['Diesel']\r\n",
    "ax = importesIndexed['2000':].plot(label='observed')\r\n",
    "pred.predicted_mean.plot(ax=ax, label='One-step ahead Forecast', alpha=.7, figsize=(14, 4))\r\n",
    "ax.fill_between( pred_ci.iloc[:,0],\r\n",
    "                pred_ci.iloc[:,1], color='k', alpha=.2)\r\n",
    "#ax.set_xlabel('Date')\r\n",
    "#ax.set_ylabel('Retail_sold')\r\n",
    "plt.legend()\r\n",
    "plt.show()\r\n",
    "\r\n",
    "pred"
   ]
  },
  {
   "cell_type": "markdown",
   "metadata": {},
   "source": [
    "# Separacion para entrenamiento (Importaciones Regular)"
   ]
  },
  {
   "cell_type": "code",
   "execution_count": null,
   "metadata": {},
   "outputs": [],
   "source": [
    "tsRegular = trainImportes['Gasolina regular']\r\n",
    "mediaMovil = tsRegular.rolling(window=12).mean()\r\n",
    "deMovil = tsRegular.rolling(window=12).std()"
   ]
  },
  {
   "cell_type": "code",
   "execution_count": null,
   "metadata": {},
   "outputs": [],
   "source": [
    "original = plt.plot(tsRegular, color=\"blue\", label=\"Original\")\r\n",
    "media = plt.plot(mediaMovil, color='red', label = 'Media Movil')\r\n",
    "ds = plt.plot(deMovil,color='black', label = 'Desviación Estándar Móvil')\r\n",
    "plt.legend(loc = 'best')\r\n",
    "plt.title('Media y desviación estándar móvil')\r\n",
    "plt.show(block=False)"
   ]
  },
  {
   "cell_type": "code",
   "execution_count": null,
   "metadata": {},
   "outputs": [],
   "source": [
    "descomposicion = seasonal_decompose(tsRegular)\r\n",
    "descomposicion.plot()"
   ]
  },
  {
   "cell_type": "markdown",
   "metadata": {},
   "source": [
    "La serie parece no ser estacionaria en media ni varianza debido a la tendencia observada"
   ]
  },
  {
   "cell_type": "markdown",
   "metadata": {},
   "source": [
    "## Estimacion"
   ]
  },
  {
   "cell_type": "code",
   "execution_count": null,
   "metadata": {},
   "outputs": [],
   "source": [
    "tsRegular = tsRegular.astype({'Gasolina regular':'float'})\r\n",
    "tsRegularLog = np.log(tsRegular)\r\n",
    "plt.plot(tsRegularLog)"
   ]
  },
  {
   "cell_type": "markdown",
   "metadata": {},
   "source": [
    "Se realiza una transformacion logaritmica"
   ]
  },
  {
   "cell_type": "markdown",
   "metadata": {},
   "source": [
    "## Dickey Fuller"
   ]
  },
  {
   "cell_type": "code",
   "execution_count": null,
   "metadata": {},
   "outputs": [],
   "source": [
    "dfTest = adfuller(tsRegular, autolag='AIC')\r\n",
    "salidaDf = pd.Series(dfTest[0:4], index=['Estadístico de prueba','p-value','# de retardos usados','# de observaciones usadas'])\r\n",
    "for key,value in dfTest[4].items():\r\n",
    "        salidaDf['Valor Crítico (%s)'%key] = value\r\n",
    "print(salidaDf)"
   ]
  },
  {
   "cell_type": "markdown",
   "metadata": {},
   "source": [
    "El p-value es mayor a 0.05 por lo que se realizara una diferenciacion"
   ]
  },
  {
   "cell_type": "markdown",
   "metadata": {},
   "source": [
    "## Resultados del Test de Dickey Fuller para una diferenciación de serie"
   ]
  },
  {
   "cell_type": "code",
   "execution_count": null,
   "metadata": {},
   "outputs": [],
   "source": [
    "tsRegularDiff = tsRegular.diff()\r\n",
    "tsRegularDiff.dropna(inplace=True)\r\n",
    "dfTest = adfuller(tsRegularDiff)\r\n",
    "salidaDf = pd.Series(dfTest[0:4], index=['Estadístico de prueba','p-value','# de retardos usados','# de observaciones usadas'])\r\n",
    "for key,value in dfTest[4].items():\r\n",
    "        salidaDf['Critical Value (%s)'%key] = value\r\n",
    "salidaDf"
   ]
  },
  {
   "cell_type": "markdown",
   "metadata": {},
   "source": [
    "El p-value es menor a 0.05, por lo que solo una diferenciacion es necesaria"
   ]
  },
  {
   "cell_type": "code",
   "execution_count": null,
   "metadata": {},
   "outputs": [],
   "source": [
    "plt.plot(tsRegularDiff)\r\n",
    "plt.title('Diferenciacion de la serie')"
   ]
  },
  {
   "cell_type": "code",
   "execution_count": null,
   "metadata": {},
   "outputs": [],
   "source": [
    "plt.plot(tsRegular.diff())"
   ]
  },
  {
   "cell_type": "markdown",
   "metadata": {},
   "source": [
    "### Estimacion de parametros del modelo"
   ]
  },
  {
   "cell_type": "code",
   "execution_count": null,
   "metadata": {},
   "outputs": [],
   "source": [
    "tsRegularLogDiff = tsRegularLog.diff()\r\n",
    "tsRegularLogDiff.dropna(inplace = True)\r\n",
    "tsd_acf = acf(tsRegularLogDiff,nlags=5,fft=False)\r\n",
    "tsd_pacf = pacf(tsRegularLogDiff, nlags=36)\r\n",
    "tsd_acf"
   ]
  },
  {
   "cell_type": "code",
   "execution_count": null,
   "metadata": {},
   "outputs": [],
   "source": [
    "plt.rcParams['figure.figsize'] = [15, 5]\r\n",
    "plt.rcParams['figure.dpi'] = 100 # 200 e.g. is really fine, but slower\r\n",
    "\r\n",
    "#Plot ACF: \r\n",
    "plt.subplot(121) \r\n",
    "plt.plot(acf(tsRegularLogDiff,nlags=12,fft=False))\r\n",
    "plt.axhline(y=0,linestyle='--',color='gray')\r\n",
    "plt.axhline(y=-1.96/np.sqrt(len(tsRegularLogDiff)),linestyle='--',color='gray')\r\n",
    "plt.axhline(y=1.96/np.sqrt(len(tsRegularLogDiff)),linestyle='--',color='gray')\r\n",
    "plt.title('Función de Autocorrelación con 12 retardos')\r\n",
    "\r\n",
    "plt.subplot(122) \r\n",
    "plt.plot(acf(tsRegularLogDiff,nlags=5,fft=False))\r\n",
    "plt.axhline(y=0,linestyle='--',color='gray')\r\n",
    "plt.axhline(y=-1.96/np.sqrt(len(tsRegularLogDiff)),linestyle='--',color='gray')\r\n",
    "plt.axhline(y=1.96/np.sqrt(len(tsRegularLogDiff)),linestyle='--',color='gray')\r\n",
    "plt.title('Función de Autocorrelación con 5 retardos')\r\n",
    "\r\n",
    "plt.tight_layout()"
   ]
  },
  {
   "cell_type": "markdown",
   "metadata": {},
   "source": [
    "### PACF"
   ]
  },
  {
   "cell_type": "code",
   "execution_count": null,
   "metadata": {},
   "outputs": [],
   "source": [
    "plt.subplot(121)\r\n",
    "plt.plot(pacf(tsRegularLogDiff, nlags=36))\r\n",
    "plt.axhline(y=0,linestyle='--',color='gray')\r\n",
    "plt.axhline(y=-1.96/np.sqrt(len(tsRegularLogDiff)),linestyle='--',color='gray')\r\n",
    "plt.axhline(y=1.96/np.sqrt(len(tsRegularLogDiff)),linestyle='--',color='gray')\r\n",
    "plt.title('Función de Autocorrelación Parcial 36 retardos')\r\n",
    "\r\n",
    "plt.subplot(122)\r\n",
    "plt.plot(pacf(tsRegularLogDiff, nlags=5))\r\n",
    "plt.axhline(y=0,linestyle='--',color='gray')\r\n",
    "plt.axhline(y=-1.96/np.sqrt(len(tsRegularLogDiff)),linestyle='--',color='gray')\r\n",
    "plt.axhline(y=1.96/np.sqrt(len(tsRegularLogDiff)),linestyle='--',color='gray')\r\n",
    "plt.title('Función de Autocorrelación Parcial 5 retardos')\r\n",
    "\r\n",
    "plt.rcParams['figure.figsize'] = [15, 5]\r\n",
    "plt.rcParams['figure.dpi'] = 100 "
   ]
  },
  {
   "cell_type": "markdown",
   "metadata": {},
   "source": [
    "En los graficos anteriores, se obtienen los siguientes valores\r\n",
    "\r\n",
    "    p = 1, q = 1\r\n",
    "    p = 1, q = 1\r\n",
    "\r\n",
    "Y se tiene que d = 1"
   ]
  },
  {
   "cell_type": "markdown",
   "metadata": {},
   "source": [
    "## ARIMA"
   ]
  },
  {
   "cell_type": "markdown",
   "metadata": {},
   "source": [
    "### Prueba de estacionalidad"
   ]
  },
  {
   "cell_type": "code",
   "execution_count": null,
   "metadata": {},
   "outputs": [],
   "source": [
    "plt.plot(acf(tsRegularLogDiff,nlags=36,fft=False))\r\n",
    "plt.axhline(y=0,linestyle='--',color='gray')\r\n",
    "plt.axhline(y=-1.96/np.sqrt(len(tsRegularLogDiff)),linestyle='--',color='gray')\r\n",
    "plt.axhline(y=1.96/np.sqrt(len(tsRegularLogDiff)),linestyle='--',color='gray')\r\n",
    "plt.title('Función de Autocorrelación con 36 retardos')\r\n",
    "plt.rcParams['figure.figsize'] = [15, 5]\r\n",
    "plt.rcParams['figure.dpi'] = 100 # 200 e.g. is really fine, but slower"
   ]
  },
  {
   "cell_type": "code",
   "execution_count": null,
   "metadata": {},
   "outputs": [],
   "source": [
    "tsRegularD = tsRegularLog.diff(12)\r\n",
    "tsRegularD.dropna(inplace=True)"
   ]
  },
  {
   "cell_type": "code",
   "execution_count": null,
   "metadata": {},
   "outputs": [],
   "source": [
    "plt.plot(pacf(tsRegularD, nlags=5))\r\n",
    "plt.axhline(y=0,linestyle='--',color='gray')\r\n",
    "plt.axhline(y=-1.96/np.sqrt(len(tsRegularLogDiff)),linestyle='--',color='gray')\r\n",
    "plt.axhline(y=1.96/np.sqrt(len(tsRegularLogDiff)),linestyle='--',color='gray')\r\n",
    "plt.title('Función de Autocorrelación Parcial 5 retardos')"
   ]
  },
  {
   "cell_type": "markdown",
   "metadata": {},
   "source": [
    "Se anula despues de 1\r\n",
    "P = 1\r\n",
    "D = 1\r\n",
    "Q = 0"
   ]
  },
  {
   "cell_type": "markdown",
   "metadata": {},
   "source": [
    "### Analisis de residuos"
   ]
  },
  {
   "cell_type": "code",
   "execution_count": null,
   "metadata": {},
   "outputs": [],
   "source": [
    "modelo111 = SARIMAX(tsRegularLog, order=(1,1,1), seasonal_order=(1,1,0,12), enforce_stationarity=False, enforce_invertibility=False)\r\n",
    "resultado_m111 = modelo111.fit()\r\n",
    "resultado_m111.summary().tables[1]"
   ]
  },
  {
   "cell_type": "code",
   "execution_count": null,
   "metadata": {},
   "outputs": [],
   "source": [
    "resultado_m111.plot_diagnostics(figsize=(18, 8))\r\n",
    "plt.show()"
   ]
  },
  {
   "cell_type": "code",
   "execution_count": null,
   "metadata": {},
   "outputs": [],
   "source": [
    "modelo211 = SARIMAX(tsRegularLog, order=(2,1,1), seasonal_order=(1,1,0,12), enforce_stationarity=False, enforce_invertibility=False)\r\n",
    "resultado_m211 = modelo211.fit()\r\n",
    "resultado_m211.summary().tables[1]"
   ]
  },
  {
   "cell_type": "code",
   "execution_count": null,
   "metadata": {},
   "outputs": [],
   "source": [
    "resultado_m211.plot_diagnostics(figsize=(18, 8))\r\n",
    "plt.show()"
   ]
  },
  {
   "cell_type": "code",
   "execution_count": null,
   "metadata": {},
   "outputs": [],
   "source": [
    "plt.show()\r\n",
    "print(\"Resultados de AIC (Akaike information criterion)\")\r\n",
    "print(\"Modelo 111=\",resultado_m111.aic)\r\n",
    "print(\"Modelo 211=\",resultado_m211.aic)\r\n",
    "print(\"Resultados de BIC (Bayesian information criterion)\")\r\n",
    "print(\"Modelo 111=\",resultado_m111.bic)\r\n",
    "print(\"Modelo 211=\",resultado_m211.bic)"
   ]
  },
  {
   "cell_type": "markdown",
   "metadata": {},
   "source": [
    "El modelo 111 es mejor porque en ambos el valor es menor"
   ]
  },
  {
   "cell_type": "code",
   "execution_count": null,
   "metadata": {},
   "outputs": [],
   "source": [
    "testImportes.index[0]\r\n",
    "pred = resultado_m111.get_prediction(start=testImportes.index[0], dynamic=False)\r\n",
    "pred_ci = pred.conf_int()\r\n",
    "importesIndexed = importes.set_index('Fecha')\r\n",
    "importesIndexed = importesIndexed['Gasolina regular']\r\n",
    "ax = importesIndexed['2000':].plot(label='observed')\r\n",
    "pred.predicted_mean.plot(ax=ax, label='One-step ahead Forecast', alpha=.7, figsize=(14, 4))\r\n",
    "ax.fill_between( pred_ci.iloc[:,0],\r\n",
    "                pred_ci.iloc[:,1], color='k', alpha=.2)\r\n",
    "#ax.set_xlabel('Date')\r\n",
    "#ax.set_ylabel('Retail_sold')\r\n",
    "plt.legend()\r\n",
    "plt.show()\r\n",
    "\r\n",
    "pred"
   ]
  }
 ],
 "metadata": {
  "kernelspec": {
   "display_name": "Python 3.10.6 64-bit",
   "metadata": {
    "interpreter": {
     "hash": "6cb11118430048aaffde37140829a96b2f2778371a079ecf7cef1d9eee249f62"
    }
   },
   "name": "python3"
  },
  "language_info": {
   "codemirror_mode": {
    "name": "ipython",
    "version": 3
   },
   "file_extension": ".py",
   "mimetype": "text/x-python",
   "name": "python",
   "nbconvert_exporter": "python",
   "pygments_lexer": "ipython3",
   "version": "3.10.6"
  },
  "orig_nbformat": 4,
  "vscode": {
   "interpreter": {
    "hash": "a1fbb46e97979fe274de0b1708aa8583f7166e6b85cafc938966f13b05b745da"
   }
  }
 },
 "nbformat": 4,
 "nbformat_minor": 2
}